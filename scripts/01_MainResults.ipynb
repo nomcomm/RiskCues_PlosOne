{
 "cells": [
  {
   "cell_type": "markdown",
   "metadata": {},
   "source": [
    "### Results \n",
    "\n",
    "This notebook reproduces the analyses reported in the paper \"Risky looks: Visual cues that predict intuitive HIV risk perception\". "
   ]
  },
  {
   "cell_type": "code",
   "execution_count": 1,
   "metadata": {},
   "outputs": [
    {
     "name": "stderr",
     "output_type": "stream",
     "text": [
      "/Users/Ralf/anaconda3/lib/python3.7/site-packages/sklearn/cross_validation.py:41: DeprecationWarning: This module was deprecated in version 0.18 in favor of the model_selection module into which all the refactored classes and functions are moved. Also note that the interface of the new CV iterators are different from that of this module. This module will be removed in 0.20.\n",
      "  \"This module will be removed in 0.20.\", DeprecationWarning)\n"
     ]
    }
   ],
   "source": [
    "import os\n",
    "import numpy as np\n",
    "import pandas as pd\n",
    "import matplotlib.pyplot as plt\n",
    "%matplotlib inline\n",
    "\n",
    "import seaborn as sns\n",
    "sns.set(font_scale=1.2)\n",
    "from sklearn import datasets\n",
    "from sklearn.model_selection import cross_val_predict, cross_val_score #KFold\n",
    "from sklearn.cross_validation import KFold  #using old interface here\n",
    "from sklearn import linear_model\n",
    "\n",
    "os.chdir('../data')"
   ]
  },
  {
   "cell_type": "markdown",
   "metadata": {},
   "source": [
    "### Relationships between individual cues and perceptions of HIV risk\n",
    "\n",
    "First, data are read in and a correlation between all cues, and particularly between each cue and the criterion variable \"HIV risk\" is computed, storing the results in a dataframe. Moreover, we compute basic descriptives for each cue, i.e. the mean (on a 1-7 scale) and standard deviation of ratings across the 240 images."
   ]
  },
  {
   "cell_type": "code",
   "execution_count": 2,
   "metadata": {},
   "outputs": [
    {
     "data": {
      "text/html": [
       "<div>\n",
       "<style scoped>\n",
       "    .dataframe tbody tr th:only-of-type {\n",
       "        vertical-align: middle;\n",
       "    }\n",
       "\n",
       "    .dataframe tbody tr th {\n",
       "        vertical-align: top;\n",
       "    }\n",
       "\n",
       "    .dataframe thead th {\n",
       "        text-align: right;\n",
       "    }\n",
       "</style>\n",
       "<table border=\"1\" class=\"dataframe\">\n",
       "  <thead>\n",
       "    <tr style=\"text-align: right;\">\n",
       "      <th></th>\n",
       "      <th>risk_cue_correlations</th>\n",
       "      <th>Cue Means</th>\n",
       "      <th>Cue Stds</th>\n",
       "    </tr>\n",
       "  </thead>\n",
       "  <tbody>\n",
       "    <tr>\n",
       "      <th>CUE1_Appearance1_Ungroomed (vs. groomed) appearance_Abstract_2</th>\n",
       "      <td>0.18</td>\n",
       "      <td>3.22</td>\n",
       "      <td>1.04</td>\n",
       "    </tr>\n",
       "    <tr>\n",
       "      <th>CUE2_Appearance2_Lot of (vs. no) body adornment_Abstract_0</th>\n",
       "      <td>0.43</td>\n",
       "      <td>2.96</td>\n",
       "      <td>1.11</td>\n",
       "    </tr>\n",
       "    <tr>\n",
       "      <th>CUE4_Appearance4_Worn out (vs. intact) clothes_Abstract_1</th>\n",
       "      <td>0.07</td>\n",
       "      <td>2.45</td>\n",
       "      <td>0.81</td>\n",
       "    </tr>\n",
       "    <tr>\n",
       "      <th>CUE5_Appearance5_Provocative (vs. reserved) clothes_Abstract_1</th>\n",
       "      <td>0.23</td>\n",
       "      <td>4.09</td>\n",
       "      <td>1.23</td>\n",
       "    </tr>\n",
       "    <tr>\n",
       "      <th>CUE6_Appearance6_Unconventional (vs. conventional) appearance_Abstract_1</th>\n",
       "      <td>0.54</td>\n",
       "      <td>3.49</td>\n",
       "      <td>0.74</td>\n",
       "    </tr>\n",
       "  </tbody>\n",
       "</table>\n",
       "</div>"
      ],
      "text/plain": [
       "                                                    risk_cue_correlations  \\\n",
       " CUE1_Appearance1_Ungroomed (vs. groomed) appea...                   0.18   \n",
       " CUE2_Appearance2_Lot of (vs. no) body adornmen...                   0.43   \n",
       " CUE4_Appearance4_Worn out (vs. intact) clothes...                   0.07   \n",
       " CUE5_Appearance5_Provocative (vs. reserved) cl...                   0.23   \n",
       " CUE6_Appearance6_Unconventional (vs. conventio...                   0.54   \n",
       "\n",
       "                                                    Cue Means  Cue Stds  \n",
       " CUE1_Appearance1_Ungroomed (vs. groomed) appea...       3.22      1.04  \n",
       " CUE2_Appearance2_Lot of (vs. no) body adornmen...       2.96      1.11  \n",
       " CUE4_Appearance4_Worn out (vs. intact) clothes...       2.45      0.81  \n",
       " CUE5_Appearance5_Provocative (vs. reserved) cl...       4.09      1.23  \n",
       " CUE6_Appearance6_Unconventional (vs. conventio...       3.49      0.74  "
      ]
     },
     "execution_count": 2,
     "metadata": {},
     "output_type": "execute_result"
    }
   ],
   "source": [
    "full_dataset = pd.read_csv('FullSet_240.txt', delimiter='\\t')\n",
    "risk_correlation_dataset = full_dataset.drop([   'BildNr','No','Sex',\n",
    "               'Trust','Health','Attractiveness',\n",
    "                           ' CUE3_Appearance3_Unshaved (vs. shaved)_Abstract_0',\n",
    "                           ' CUE34_Face17_Strong (vs. no) growth of beard_Abstract_0',\n",
    "                           ' CUE53_Mouth2_Yellow (vs. white) teeth_Abstract_0',\n",
    "                           ' CUE62_Set8_Dark (vs. well-lit) background_Abstract_0',\n",
    "                           ' CUE35_GenImp1_Self confident (vs. not)_Abstract_2',\n",
    "                           ' CUE36_GenImp2_Cautious (vs. risk-seeking)_Abstract_2',\n",
    "                           ' CUE37_GenImp3_Uneducated (vs. educated)_Abstract_2',\n",
    "                           ' CUE38_GenImp4_Southern (vs. nordic) type_Abstract_1',\n",
    "                           ' CUE39_GenImp5_Sporty (vs. unsporty)_Abstract_2',\n",
    "                           ' CUE40_GenImp6_Scruffy (vs. kempt)_Abstract_2',\n",
    "                           ' CUE41_GenImp7_Likeable (vs. unsympathetic)_Abstract_2',\n",
    "                           ' CUE42_GenImp8_Attractive (vs. unattractive)_Abstract_2',\n",
    "                           ' CUE43_GenImp9_Irresponsible (vs. responsible)_Abstract_2',\n",
    "                           ' CUE44_GenImp10_Homosexual (vs. heterosexual)_Abstract_2',\n",
    "                           ' CUE45_GenImp11_Popular (vs. unpopular)_Abstract_2',\n",
    "                           ' CUE46_GenImp12_Selfish (vs. unselfish)_Abstract_2',\n",
    "                           ' CUE47_GenImp13_Ill-looking (vs. healthy-looking)_Abstract_2'], axis=1)\n",
    "\n",
    "# Computing correlations\n",
    "risk_cue_correlations = risk_correlation_dataset.corr()\n",
    "\n",
    "# Setting up a dataframe to store the risk-cue-correlations (just a column in the results matrix)\n",
    "results_table = pd.DataFrame(np.round(risk_cue_correlations.Risk[1:].values, 2) , columns = ['risk_cue_correlations'])\n",
    "\n",
    "# giving the results table the proper cue names/labels\n",
    "results_table.index = risk_cue_correlations.index[1:,]\n",
    "\n",
    "# computing cue means and sds, and putting them into the results_table\n",
    "results_table['Cue Means'] = np.round(risk_correlation_dataset.describe().loc['mean'][1:].values, 2)\n",
    "results_table['Cue Stds'] = np.round(risk_correlation_dataset.describe().loc['std'][1:].values,2)\n",
    "results_table.head()"
   ]
  },
  {
   "cell_type": "code",
   "execution_count": 3,
   "metadata": {},
   "outputs": [],
   "source": [
    "# Uncomment to visually inspect relationships between cues\n",
    "#df = risk_correlation_dataset.iloc[:, 2:10]\n",
    "#df.columns = np.arange(2,10,1)\n",
    "#sns.pairplot(df, kind='reg');"
   ]
  },
  {
   "cell_type": "markdown",
   "metadata": {},
   "source": [
    "### Predicting HIV risk impressions from visual cues\n",
    "#### Set up dataset for regression modeling \n",
    "\n",
    "After assessing correlations between each cue and HIV risk, the next step is setting up a predictive model to forecast HIV risk from the combination of cues. We begin by creating a dataset (X) and the outcome variable (y - i.e. HIV risk)."
   ]
  },
  {
   "cell_type": "code",
   "execution_count": 4,
   "metadata": {
    "scrolled": true
   },
   "outputs": [
    {
     "data": {
      "text/html": [
       "<div>\n",
       "<style scoped>\n",
       "    .dataframe tbody tr th:only-of-type {\n",
       "        vertical-align: middle;\n",
       "    }\n",
       "\n",
       "    .dataframe tbody tr th {\n",
       "        vertical-align: top;\n",
       "    }\n",
       "\n",
       "    .dataframe thead th {\n",
       "        text-align: right;\n",
       "    }\n",
       "</style>\n",
       "<table border=\"1\" class=\"dataframe\">\n",
       "  <thead>\n",
       "    <tr style=\"text-align: right;\">\n",
       "      <th></th>\n",
       "      <th>CUE1_Appearance1_Ungroomed (vs. groomed) appearance_Abstract_2</th>\n",
       "      <th>CUE2_Appearance2_Lot of (vs. no) body adornment_Abstract_0</th>\n",
       "      <th>CUE4_Appearance4_Worn out (vs. intact) clothes_Abstract_1</th>\n",
       "      <th>CUE5_Appearance5_Provocative (vs. reserved) clothes_Abstract_1</th>\n",
       "      <th>CUE6_Appearance6_Unconventional (vs. conventional) appearance_Abstract_1</th>\n",
       "      <th>CUE7_Appearance7_Fashionable (vs. unfashionable) appearance_Abstract_1</th>\n",
       "      <th>CUE8_Appearance8_Dark (vs. bright) clothes_Abstract_0</th>\n",
       "      <th>CUE9_Appearance9_Clean (vs. dirty) clothes_Abstract_1</th>\n",
       "      <th>CUE10_Body1_Tense (vs. relaxed) posture_Abstract_1</th>\n",
       "      <th>CUE11_Body2_Musculous (vs. not musculous) stature_Abstract_1</th>\n",
       "      <th>...</th>\n",
       "      <th>CUE64_Skin1_Unhealthy (vs. healthy) skin_Abstract_1</th>\n",
       "      <th>CUE65_Skin2_Pale (vs. tanned) skin_Abstract_0</th>\n",
       "      <th>CUE66_Skin3_Pimply (vs. pimple-free) skin_Abstract_0</th>\n",
       "      <th>CUE67_Skin4_Many (vs. few) skin folds_Abstract_0</th>\n",
       "      <th>CUE68_Skin5_Spotty (vs. spot-free) skin_Abstract_0</th>\n",
       "      <th>CUE69_Skin6_Greasy (vs. dry) skin_Abstract_0</th>\n",
       "      <th>CUE70_Skin7_Lots of (vs. no) skin visible_Abstract_0</th>\n",
       "      <th>CUE71_View1_Coquettish (vs. no coquettish) gaze_Abstract_1</th>\n",
       "      <th>CUE72_View2_Averted (vs. front-facing) gaze_Abstract_0</th>\n",
       "      <th>CUE73_View3_Tired (vs. alert) gaze_Abstract_1</th>\n",
       "    </tr>\n",
       "  </thead>\n",
       "  <tbody>\n",
       "    <tr>\n",
       "      <th>0</th>\n",
       "      <td>4.500</td>\n",
       "      <td>4.125</td>\n",
       "      <td>2.625</td>\n",
       "      <td>2.0000</td>\n",
       "      <td>2.500</td>\n",
       "      <td>3.250</td>\n",
       "      <td>5.5000</td>\n",
       "      <td>3.500</td>\n",
       "      <td>3.000</td>\n",
       "      <td>4.125</td>\n",
       "      <td>...</td>\n",
       "      <td>4.375</td>\n",
       "      <td>3.250</td>\n",
       "      <td>3.750</td>\n",
       "      <td>2.500</td>\n",
       "      <td>2.875</td>\n",
       "      <td>5.625</td>\n",
       "      <td>6.125</td>\n",
       "      <td>2.0000</td>\n",
       "      <td>1.000</td>\n",
       "      <td>3.000</td>\n",
       "    </tr>\n",
       "    <tr>\n",
       "      <th>1</th>\n",
       "      <td>2.750</td>\n",
       "      <td>2.125</td>\n",
       "      <td>2.125</td>\n",
       "      <td>3.6250</td>\n",
       "      <td>3.125</td>\n",
       "      <td>4.250</td>\n",
       "      <td>2.1429</td>\n",
       "      <td>5.375</td>\n",
       "      <td>3.625</td>\n",
       "      <td>4.125</td>\n",
       "      <td>...</td>\n",
       "      <td>2.750</td>\n",
       "      <td>3.250</td>\n",
       "      <td>3.125</td>\n",
       "      <td>1.500</td>\n",
       "      <td>1.750</td>\n",
       "      <td>4.000</td>\n",
       "      <td>5.250</td>\n",
       "      <td>5.1250</td>\n",
       "      <td>1.250</td>\n",
       "      <td>4.750</td>\n",
       "    </tr>\n",
       "    <tr>\n",
       "      <th>2</th>\n",
       "      <td>4.625</td>\n",
       "      <td>4.625</td>\n",
       "      <td>3.250</td>\n",
       "      <td>2.1429</td>\n",
       "      <td>4.000</td>\n",
       "      <td>4.125</td>\n",
       "      <td>5.7143</td>\n",
       "      <td>3.000</td>\n",
       "      <td>4.625</td>\n",
       "      <td>5.625</td>\n",
       "      <td>...</td>\n",
       "      <td>3.000</td>\n",
       "      <td>6.000</td>\n",
       "      <td>2.375</td>\n",
       "      <td>1.625</td>\n",
       "      <td>1.500</td>\n",
       "      <td>3.250</td>\n",
       "      <td>6.625</td>\n",
       "      <td>2.5000</td>\n",
       "      <td>1.625</td>\n",
       "      <td>4.375</td>\n",
       "    </tr>\n",
       "    <tr>\n",
       "      <th>3</th>\n",
       "      <td>3.625</td>\n",
       "      <td>5.125</td>\n",
       "      <td>2.375</td>\n",
       "      <td>3.6250</td>\n",
       "      <td>3.000</td>\n",
       "      <td>4.625</td>\n",
       "      <td>2.7500</td>\n",
       "      <td>5.000</td>\n",
       "      <td>4.625</td>\n",
       "      <td>5.125</td>\n",
       "      <td>...</td>\n",
       "      <td>3.500</td>\n",
       "      <td>4.875</td>\n",
       "      <td>3.375</td>\n",
       "      <td>1.250</td>\n",
       "      <td>2.250</td>\n",
       "      <td>5.000</td>\n",
       "      <td>5.000</td>\n",
       "      <td>4.5000</td>\n",
       "      <td>1.750</td>\n",
       "      <td>4.875</td>\n",
       "    </tr>\n",
       "    <tr>\n",
       "      <th>4</th>\n",
       "      <td>2.375</td>\n",
       "      <td>3.250</td>\n",
       "      <td>1.625</td>\n",
       "      <td>5.1250</td>\n",
       "      <td>4.500</td>\n",
       "      <td>5.375</td>\n",
       "      <td>5.7500</td>\n",
       "      <td>5.250</td>\n",
       "      <td>4.250</td>\n",
       "      <td>4.625</td>\n",
       "      <td>...</td>\n",
       "      <td>2.375</td>\n",
       "      <td>4.750</td>\n",
       "      <td>2.250</td>\n",
       "      <td>2.000</td>\n",
       "      <td>2.625</td>\n",
       "      <td>4.250</td>\n",
       "      <td>3.125</td>\n",
       "      <td>4.5714</td>\n",
       "      <td>1.625</td>\n",
       "      <td>2.125</td>\n",
       "    </tr>\n",
       "  </tbody>\n",
       "</table>\n",
       "<p>5 rows × 56 columns</p>\n",
       "</div>"
      ],
      "text/plain": [
       "    CUE1_Appearance1_Ungroomed (vs. groomed) appearance_Abstract_2  \\\n",
       "0                                              4.500                 \n",
       "1                                              2.750                 \n",
       "2                                              4.625                 \n",
       "3                                              3.625                 \n",
       "4                                              2.375                 \n",
       "\n",
       "    CUE2_Appearance2_Lot of (vs. no) body adornment_Abstract_0  \\\n",
       "0                                              4.125             \n",
       "1                                              2.125             \n",
       "2                                              4.625             \n",
       "3                                              5.125             \n",
       "4                                              3.250             \n",
       "\n",
       "    CUE4_Appearance4_Worn out (vs. intact) clothes_Abstract_1  \\\n",
       "0                                              2.625            \n",
       "1                                              2.125            \n",
       "2                                              3.250            \n",
       "3                                              2.375            \n",
       "4                                              1.625            \n",
       "\n",
       "    CUE5_Appearance5_Provocative (vs. reserved) clothes_Abstract_1  \\\n",
       "0                                             2.0000                 \n",
       "1                                             3.6250                 \n",
       "2                                             2.1429                 \n",
       "3                                             3.6250                 \n",
       "4                                             5.1250                 \n",
       "\n",
       "    CUE6_Appearance6_Unconventional (vs. conventional) appearance_Abstract_1  \\\n",
       "0                                              2.500                           \n",
       "1                                              3.125                           \n",
       "2                                              4.000                           \n",
       "3                                              3.000                           \n",
       "4                                              4.500                           \n",
       "\n",
       "    CUE7_Appearance7_Fashionable (vs. unfashionable) appearance_Abstract_1  \\\n",
       "0                                              3.250                         \n",
       "1                                              4.250                         \n",
       "2                                              4.125                         \n",
       "3                                              4.625                         \n",
       "4                                              5.375                         \n",
       "\n",
       "    CUE8_Appearance8_Dark (vs. bright) clothes_Abstract_0  \\\n",
       "0                                             5.5000        \n",
       "1                                             2.1429        \n",
       "2                                             5.7143        \n",
       "3                                             2.7500        \n",
       "4                                             5.7500        \n",
       "\n",
       "    CUE9_Appearance9_Clean (vs. dirty) clothes_Abstract_1  \\\n",
       "0                                              3.500        \n",
       "1                                              5.375        \n",
       "2                                              3.000        \n",
       "3                                              5.000        \n",
       "4                                              5.250        \n",
       "\n",
       "    CUE10_Body1_Tense (vs. relaxed) posture_Abstract_1  \\\n",
       "0                                              3.000     \n",
       "1                                              3.625     \n",
       "2                                              4.625     \n",
       "3                                              4.625     \n",
       "4                                              4.250     \n",
       "\n",
       "    CUE11_Body2_Musculous (vs. not musculous) stature_Abstract_1  \\\n",
       "0                                              4.125               \n",
       "1                                              4.125               \n",
       "2                                              5.625               \n",
       "3                                              5.125               \n",
       "4                                              4.625               \n",
       "\n",
       "                        ...                        \\\n",
       "0                       ...                         \n",
       "1                       ...                         \n",
       "2                       ...                         \n",
       "3                       ...                         \n",
       "4                       ...                         \n",
       "\n",
       "    CUE64_Skin1_Unhealthy (vs. healthy) skin_Abstract_1  \\\n",
       "0                                              4.375      \n",
       "1                                              2.750      \n",
       "2                                              3.000      \n",
       "3                                              3.500      \n",
       "4                                              2.375      \n",
       "\n",
       "    CUE65_Skin2_Pale (vs. tanned) skin_Abstract_0  \\\n",
       "0                                           3.250   \n",
       "1                                           3.250   \n",
       "2                                           6.000   \n",
       "3                                           4.875   \n",
       "4                                           4.750   \n",
       "\n",
       "    CUE66_Skin3_Pimply (vs. pimple-free) skin_Abstract_0  \\\n",
       "0                                              3.750       \n",
       "1                                              3.125       \n",
       "2                                              2.375       \n",
       "3                                              3.375       \n",
       "4                                              2.250       \n",
       "\n",
       "    CUE67_Skin4_Many (vs. few) skin folds_Abstract_0  \\\n",
       "0                                              2.500   \n",
       "1                                              1.500   \n",
       "2                                              1.625   \n",
       "3                                              1.250   \n",
       "4                                              2.000   \n",
       "\n",
       "    CUE68_Skin5_Spotty (vs. spot-free) skin_Abstract_0  \\\n",
       "0                                              2.875     \n",
       "1                                              1.750     \n",
       "2                                              1.500     \n",
       "3                                              2.250     \n",
       "4                                              2.625     \n",
       "\n",
       "    CUE69_Skin6_Greasy (vs. dry) skin_Abstract_0  \\\n",
       "0                                          5.625   \n",
       "1                                          4.000   \n",
       "2                                          3.250   \n",
       "3                                          5.000   \n",
       "4                                          4.250   \n",
       "\n",
       "    CUE70_Skin7_Lots of (vs. no) skin visible_Abstract_0  \\\n",
       "0                                              6.125       \n",
       "1                                              5.250       \n",
       "2                                              6.625       \n",
       "3                                              5.000       \n",
       "4                                              3.125       \n",
       "\n",
       "    CUE71_View1_Coquettish (vs. no coquettish) gaze_Abstract_1  \\\n",
       "0                                             2.0000             \n",
       "1                                             5.1250             \n",
       "2                                             2.5000             \n",
       "3                                             4.5000             \n",
       "4                                             4.5714             \n",
       "\n",
       "    CUE72_View2_Averted (vs. front-facing) gaze_Abstract_0  \\\n",
       "0                                              1.000         \n",
       "1                                              1.250         \n",
       "2                                              1.625         \n",
       "3                                              1.750         \n",
       "4                                              1.625         \n",
       "\n",
       "    CUE73_View3_Tired (vs. alert) gaze_Abstract_1  \n",
       "0                                           3.000  \n",
       "1                                           4.750  \n",
       "2                                           4.375  \n",
       "3                                           4.875  \n",
       "4                                           2.125  \n",
       "\n",
       "[5 rows x 56 columns]"
      ]
     },
     "execution_count": 4,
     "metadata": {},
     "output_type": "execute_result"
    }
   ],
   "source": [
    "# defining datamatrix and outcome vector\n",
    "X = risk_correlation_dataset\n",
    "y = X['Risk']\n",
    "X = X.drop([ 'Risk'], axis=1)\n",
    "X.head()"
   ]
  },
  {
   "cell_type": "markdown",
   "metadata": {},
   "source": [
    "#### Set up Lasso, cross-validate, plot\n",
    "\n",
    "This is the core analysis that sets up a lasso-regression model and estimates it against the data in a 10-fold cross-validation. Results are then plotted and metrics are assessed."
   ]
  },
  {
   "cell_type": "code",
   "execution_count": 5,
   "metadata": {
    "scrolled": false
   },
   "outputs": [
    {
     "data": {
      "image/png": "[encoded data removed]",
      "text/plain": [
       "<Figure size 576x576 with 1 Axes>"
      ]
     },
     "metadata": {},
     "output_type": "display_data"
    },
    {
     "name": "stdout",
     "output_type": "stream",
     "text": [
      "Correlation measured2predicted: 0.75\n",
      "Mean R2: 0.56\n",
      "Standard error of the estimate: 0.57\n"
     ]
    }
   ],
   "source": [
    "# Defining the LassoEstimator\n",
    "lasso = linear_model.LassoCV()\n",
    "\n",
    "# predict the data\n",
    "predicted = cross_val_predict(lasso, X, y, cv=10)\n",
    "\n",
    "# plot\n",
    "sns.set_style(\"whitegrid\")\n",
    "fig, ax = plt.subplots(figsize = (8, 8))\n",
    "ax.scatter(y, predicted, color = 'black')\n",
    "ax.set_xlabel('Actual impressions of HIV risk')\n",
    "ax.set_ylabel('Predicted impressions of HIV risk')\n",
    "ax.set_xlim((1,7))\n",
    "ax.set_ylim((1,7))\n",
    "#ax.set_title('Result of Lasso Regression')\n",
    "#sns.despine()\n",
    "#fig.savefig('../data/figureX.png')\n",
    "plt.show()\n",
    "\n",
    "# give correlation between measured and predicted results\n",
    "corr_m2p = np.corrcoef(y, predicted)[0,1]\n",
    "corr_m2p = np.round(corr_m2p, 2)\n",
    "print( 'Correlation measured2predicted: '  + str( corr_m2p ) )\n",
    "\n",
    "# compute x-val score r2 and mean thereof\n",
    "scores = cross_val_score(lasso, X, y, cv=10, scoring = 'r2')\n",
    "m_r2 = np.mean(scores)\n",
    "m_r2 = np.round(m_r2, 2)\n",
    "print('Mean R2: ' + str( m_r2 ) )\n",
    "\n",
    "# computing the standard error of the estimate \n",
    "se = np.sqrt(np.sum((y-predicted)**2)/len(y))\n",
    "se = np.round(se, 2)\n",
    "print('Standard error of the estimate: ' + str( se ) )\n",
    "\n",
    "\n",
    "# get lasso coefficients\n",
    "lasso_model = lasso.fit(X, y)\n",
    "len(lasso_model.coef_)\n",
    "\n",
    "results_table['Lasso Coefficients'] = np.round(lasso_model.coef_, 2)\n",
    "#results_table\n",
    "results_table.to_csv('results_table.csv')"
   ]
  },
  {
   "cell_type": "markdown",
   "metadata": {},
   "source": [
    "#### Inspecting the Lasso coefficients\n",
    "\n",
    "In addition to know that the model predicts HIV risk quite well, we want to know which cues are particularly important. We do so by sorting the cue-coefficients"
   ]
  },
  {
   "cell_type": "code",
   "execution_count": 6,
   "metadata": {},
   "outputs": [
    {
     "name": "stdout",
     "output_type": "stream",
     "text": [
      "Top 5\n",
      " CUE6_Appearance6_Unconventional (vs. conventional) appearance_Abstract_1    0.31\n",
      " CUE23_Face6_Worn (vs. fresh) face_Abstract_1                                0.20\n",
      " CUE2_Appearance2_Lot of (vs. no) body adornment_Abstract_0                  0.14\n",
      " CUE71_View1_Coquettish (vs. no coquettish) gaze_Abstract_1                  0.12\n",
      " CUE16_Eyes2_Reddened (vs. non-reddened) eyes_Abstract_0                     0.12\n",
      "Name: Lasso Coefficients, dtype: float64\n",
      "-----\n",
      "Bottom 5\n"
     ]
    },
    {
     "data": {
      "text/plain": [
       " CUE32_Face15_Friendly (vs. grumpy) expression_Abstract_1       -0.03\n",
       " CUE11_Body2_Musculous (vs. not musculous) stature_Abstract_1   -0.04\n",
       " CUE29_Face12_Average (vs. unusual) face_Abstract_1             -0.08\n",
       " CUE14_Body5_Tall (vs.low) height_Abstract_0                    -0.09\n",
       " CUE12_Body3_Overweight (vs. underweight)_Abstract_0            -0.11\n",
       "Name: Lasso Coefficients, dtype: float64"
      ]
     },
     "execution_count": 6,
     "metadata": {},
     "output_type": "execute_result"
    }
   ],
   "source": [
    "sorted = results_table.sort_values('Lasso Coefficients', ascending=False)\n",
    "print('Top 5')\n",
    "print(sorted['Lasso Coefficients'][:5])\n",
    "print('-----')\n",
    "print('Bottom 5')\n",
    "sorted['Lasso Coefficients'][-5:]"
   ]
  },
  {
   "cell_type": "code",
   "execution_count": 7,
   "metadata": {},
   "outputs": [
    {
     "name": "stdout",
     "output_type": "stream",
     "text": [
      "Top 5\n",
      " CUE6_Appearance6_Unconventional (vs. conventional) appearance_Abstract_1    0.31\n",
      " CUE23_Face6_Worn (vs. fresh) face_Abstract_1                                0.20\n",
      " CUE2_Appearance2_Lot of (vs. no) body adornment_Abstract_0                  0.14\n",
      " CUE71_View1_Coquettish (vs. no coquettish) gaze_Abstract_1                  0.12\n",
      " CUE16_Eyes2_Reddened (vs. non-reddened) eyes_Abstract_0                     0.12\n",
      "Name: Lasso Coefficients, dtype: float64\n",
      "-----\n",
      "Bottom 5\n"
     ]
    },
    {
     "data": {
      "text/plain": [
       " CUE32_Face15_Friendly (vs. grumpy) expression_Abstract_1       -0.03\n",
       " CUE11_Body2_Musculous (vs. not musculous) stature_Abstract_1   -0.04\n",
       " CUE29_Face12_Average (vs. unusual) face_Abstract_1             -0.08\n",
       " CUE14_Body5_Tall (vs.low) height_Abstract_0                    -0.09\n",
       " CUE12_Body3_Overweight (vs. underweight)_Abstract_0            -0.11\n",
       "Name: Lasso Coefficients, dtype: float64"
      ]
     },
     "execution_count": 7,
     "metadata": {},
     "output_type": "execute_result"
    }
   ],
   "source": [
    "sorted = results_table.sort_values('Lasso Coefficients', ascending=False)\n",
    "print('Top 5')\n",
    "print(sorted['Lasso Coefficients'][:5])\n",
    "print('-----')\n",
    "print('Bottom 5')\n",
    "sorted['Lasso Coefficients'][-5:]"
   ]
  },
  {
   "cell_type": "markdown",
   "metadata": {},
   "source": [
    "#### Setting up a conventional regression model\n",
    "The above results rely on Lasso-regression. The classical approach would be a standard linear regression. Due to multicolinearity, this model is not advisable, but in this case does not markedly change the results."
   ]
  },
  {
   "cell_type": "code",
   "execution_count": 8,
   "metadata": {
    "scrolled": false
   },
   "outputs": [
    {
     "data": {
      "image/png": "[encoded data removed]",
      "text/plain": [
       "<Figure size 360x360 with 1 Axes>"
      ]
     },
     "metadata": {},
     "output_type": "display_data"
    },
    {
     "name": "stdout",
     "output_type": "stream",
     "text": [
      "Correlation measured2predicted: 0.71\n",
      "Mean R2: 0.48\n",
      "Standard error of the estimate: 0.62\n"
     ]
    }
   ],
   "source": [
    "lr = linear_model.LinearRegression()\n",
    "predicted = cross_val_predict(lr, X, y, cv=10)\n",
    "\n",
    "fig, ax = plt.subplots(figsize = (5, 5))\n",
    "ax.scatter(y, predicted, color = 'black')\n",
    "ax.set_xlabel('Actual impressions of HIV risk')\n",
    "ax.set_ylabel('Predicted impression of HIV risk')\n",
    "ax.set_xlim((1,7))\n",
    "ax.set_ylim((1,7))\n",
    "ax.set_title('Result of Linear Regression')\n",
    "plt.show()\n",
    "\n",
    "# give correlation between measured and predicted results\n",
    "corr_m2p = np.corrcoef(y, predicted)[0,1]\n",
    "corr_m2p = np.round(corr_m2p, 2)\n",
    "print( 'Correlation measured2predicted: '  + str( corr_m2p ) )\n",
    "\n",
    "# compute x-val score r2 and mean thereof\n",
    "scores = cross_val_score(lr, X, y, cv=10, scoring = 'r2')\n",
    "m_r2 = np.mean(scores)\n",
    "m_r2 = np.round(m_r2, 2)\n",
    "print('Mean R2: ' + str( m_r2 ) )\n",
    "\n",
    "# computing the standard error of the estimate \n",
    "se = np.sqrt(np.sum((y-predicted)**2)/len(y))\n",
    "se = np.round(se, 2)\n",
    "print('Standard error of the estimate: ' + str( se ) )\n",
    "\n",
    "# get lasso coefficients\n",
    "lr_model = lr.fit(X, y)\n",
    "len(lr_model.coef_)\n",
    "\n",
    "results_table['LR Coefficients'] = np.round(lr_model.coef_, 2)\n",
    "#results_table"
   ]
  },
  {
   "cell_type": "markdown",
   "metadata": {},
   "source": [
    "#### Reducing the cues to concrete  ones and running same LASSO model\n",
    "\n",
    "Inspecting the models above reveals that some of the most informative cues are themselves abstractions (e.g. \"unconventional appearance\"). This is expected since HIV risk is likely a \"compound impression\" and not neatly tied to e.g. the brightness of the image. However, to examine how the results change if we confine the data to concrete (clearly observable) cues, we run the same procedures using a reduced dataset."
   ]
  },
  {
   "cell_type": "code",
   "execution_count": 9,
   "metadata": {},
   "outputs": [],
   "source": [
    "n_cues = len(X.columns.values)\n",
    "abstraction_selector = np.ones(n_cues)\n",
    "for run in range(n_cues):\n",
    "    if (int(X.columns.values[run][-1]) > 0) :\n",
    "            abstraction_selector[run] = 0\n",
    "\n",
    "X_concrete = X.iloc[:, np.where(abstraction_selector > 0)[0]  ]"
   ]
  },
  {
   "cell_type": "code",
   "execution_count": 10,
   "metadata": {},
   "outputs": [
    {
     "data": {
      "image/png": "[encoded data removed]",
      "text/plain": [
       "<Figure size 360x360 with 1 Axes>"
      ]
     },
     "metadata": {},
     "output_type": "display_data"
    },
    {
     "name": "stdout",
     "output_type": "stream",
     "text": [
      "Correlation measured2predicted: 0.61\n",
      "Mean R2: 0.35\n",
      "Standard error of the estimate: 0.69\n"
     ]
    }
   ],
   "source": [
    "# predict the data\n",
    "predicted = cross_val_predict(lasso, X_concrete, y, cv=10)\n",
    "\n",
    "# plot\n",
    "fig, ax = plt.subplots(figsize = (5, 5))\n",
    "ax.scatter(y, predicted, color = 'black')\n",
    "ax.set_xlabel('Actual impressions of HIV risk')\n",
    "ax.set_ylabel('Predicted impression of HIV risk')\n",
    "ax.set_xlim((1,7))\n",
    "ax.set_ylim((1,7))\n",
    "ax.set_title('Result of Lasso Regression - Concrete Cue Set')\n",
    "plt.show()\n",
    "\n",
    "# give correlation between measured and predicted results\n",
    "corr_m2p = np.corrcoef(y, predicted)[0,1]\n",
    "corr_m2p = np.round(corr_m2p, 2)\n",
    "print( 'Correlation measured2predicted: '  + str( corr_m2p ) )\n",
    "\n",
    "# compute x-val score r2 and mean thereof\n",
    "scores = cross_val_score(lasso, X_concrete, y, cv=10, scoring = 'r2')\n",
    "m_r2 = np.mean(scores)\n",
    "m_r2 = np.round(m_r2, 2)\n",
    "print('Mean R2: ' + str( m_r2 ) )\n",
    "\n",
    "# computing the standard error of the estimate \n",
    "se = np.sqrt(np.sum((y-predicted)**2)/len(y))\n",
    "se = np.round(se, 2)\n",
    "print('Standard error of the estimate: ' + str( se ) )\n",
    "\n",
    "\n",
    "# get lasso coefficients\n",
    "lasso_model_reduced = lasso.fit(X_concrete, y)\n",
    "len(lasso_model_reduced.coef_)\n",
    "\n",
    "results_table_reduced = pd.DataFrame(  index= X_concrete.columns.values)\n",
    "\n",
    "results_table_reduced['Lasso Coefficients ConcreteOnly'] = np.round(lasso_model_reduced.coef_, 2)\n",
    "#results_table"
   ]
  },
  {
   "cell_type": "code",
   "execution_count": 11,
   "metadata": {},
   "outputs": [
    {
     "name": "stdout",
     "output_type": "stream",
     "text": [
      "Top 5\n",
      " CUE57_Set3_Alcohol (vs. no alcohol) visible_Abstract_0        0.29\n",
      " CUE16_Eyes2_Reddened (vs. non-reddened) eyes_Abstract_0       0.26\n",
      " CUE2_Appearance2_Lot of (vs. no) body adornment_Abstract_0    0.25\n",
      " CUE68_Skin5_Spotty (vs. spot-free) skin_Abstract_0            0.17\n",
      " CUE54_Mouth3_Full (vs. narrow) lips_Abstract_0                0.15\n",
      "Name: Lasso Coefficients ConcreteOnly, dtype: float64\n",
      "-----\n",
      "Bottom 5\n"
     ]
    },
    {
     "data": {
      "text/plain": [
       " CUE14_Body5_Tall (vs.low) height_Abstract_0                        -0.09\n",
       " CUE59_Set5_Picture taken in nature (vs. civilization)_Abstract_0   -0.10\n",
       " CUE66_Skin3_Pimply (vs. pimple-free) skin_Abstract_0               -0.12\n",
       " CUE12_Body3_Overweight (vs. underweight)_Abstract_0                -0.22\n",
       " CUE61_Set7_Food (vs. no food) visible_Abstract_0                   -0.45\n",
       "Name: Lasso Coefficients ConcreteOnly, dtype: float64"
      ]
     },
     "execution_count": 11,
     "metadata": {},
     "output_type": "execute_result"
    }
   ],
   "source": [
    "sorted = results_table_reduced.sort_values('Lasso Coefficients ConcreteOnly', ascending=False)\n",
    "print('Top 5')\n",
    "print(sorted['Lasso Coefficients ConcreteOnly'][:5])\n",
    "print('-----')\n",
    "print('Bottom 5')\n",
    "sorted['Lasso Coefficients ConcreteOnly'][-5:]"
   ]
  },
  {
   "cell_type": "markdown",
   "metadata": {},
   "source": [
    "### How does HIV risk perception relate to general person impressions?"
   ]
  },
  {
   "cell_type": "code",
   "execution_count": 12,
   "metadata": {},
   "outputs": [],
   "source": [
    "full_dataset\n",
    "impression_dataset = full_dataset[['Risk', \n",
    "                                   ' CUE35_GenImp1_Self confident (vs. not)_Abstract_2',\n",
    "                                   ' CUE36_GenImp2_Cautious (vs. risk-seeking)_Abstract_2',\n",
    "                                   ' CUE37_GenImp3_Uneducated (vs. educated)_Abstract_2',\n",
    "                                   ' CUE38_GenImp4_Southern (vs. nordic) type_Abstract_1',\n",
    "                                   ' CUE39_GenImp5_Sporty (vs. unsporty)_Abstract_2',\n",
    "                                   ' CUE40_GenImp6_Scruffy (vs. kempt)_Abstract_2',\n",
    "                                   ' CUE41_GenImp7_Likeable (vs. unsympathetic)_Abstract_2',\n",
    "                                   ' CUE42_GenImp8_Attractive (vs. unattractive)_Abstract_2',\n",
    "                                   ' CUE43_GenImp9_Irresponsible (vs. responsible)_Abstract_2',\n",
    "                                   ' CUE44_GenImp10_Homosexual (vs. heterosexual)_Abstract_2',\n",
    "                                   ' CUE45_GenImp11_Popular (vs. unpopular)_Abstract_2',\n",
    "                                   ' CUE46_GenImp12_Selfish (vs. unselfish)_Abstract_2',\n",
    "                                   ' CUE47_GenImp13_Ill-looking (vs. healthy-looking)_Abstract_2',]\n",
    "                                 ]\n",
    "\n",
    "risk_impressions_correlations = impression_dataset.corr()\n",
    "\n",
    "# Setting up a dataframe to store the risk-cue-correlations (just a column in the results matrix)\n",
    "impression_results_table = pd.DataFrame(np.round(risk_impressions_correlations.Risk[1:].values, 2) , columns = ['risk_impressions_correlations'])\n",
    "\n",
    "\n",
    "\n",
    "# giving the results table the proper cue names/labels\n",
    "impression_results_table.index = risk_impressions_correlations.index[1:,]\n",
    "\n",
    "# computing cue means and sds, and putting them into the results_table\n",
    "impression_results_table['Mean Rating'] = np.round(risk_impressions_correlations.describe().loc['mean'][1:].values, 2)\n",
    "impression_results_table['Std'] = np.round(risk_impressions_correlations.describe().loc['std'][1:].values,2)\n",
    "impression_results_table\n",
    "impression_results_table.to_csv('impression_results_table.csv')"
   ]
  },
  {
   "cell_type": "markdown",
   "metadata": {},
   "source": [
    "### The relationship between impressions of HIV risk to perceptions of trust, health,  and attractiveness."
   ]
  },
  {
   "cell_type": "markdown",
   "metadata": {},
   "source": [
    "#### Correlations between variables\n",
    "First, we can just examine the correlations between HIV risk and other dimensions of social impressions."
   ]
  },
  {
   "cell_type": "code",
   "execution_count": 13,
   "metadata": {},
   "outputs": [
    {
     "data": {
      "text/html": [
       "<div>\n",
       "<style scoped>\n",
       "    .dataframe tbody tr th:only-of-type {\n",
       "        vertical-align: middle;\n",
       "    }\n",
       "\n",
       "    .dataframe tbody tr th {\n",
       "        vertical-align: top;\n",
       "    }\n",
       "\n",
       "    .dataframe thead th {\n",
       "        text-align: right;\n",
       "    }\n",
       "</style>\n",
       "<table border=\"1\" class=\"dataframe\">\n",
       "  <thead>\n",
       "    <tr style=\"text-align: right;\">\n",
       "      <th></th>\n",
       "      <th>Risk</th>\n",
       "      <th>Trust</th>\n",
       "      <th>Health</th>\n",
       "      <th>Attractiveness</th>\n",
       "    </tr>\n",
       "  </thead>\n",
       "  <tbody>\n",
       "    <tr>\n",
       "      <th>Risk</th>\n",
       "      <td>1.000000</td>\n",
       "      <td>-0.804919</td>\n",
       "      <td>-0.442681</td>\n",
       "      <td>0.030642</td>\n",
       "    </tr>\n",
       "    <tr>\n",
       "      <th>Trust</th>\n",
       "      <td>-0.804919</td>\n",
       "      <td>1.000000</td>\n",
       "      <td>0.603763</td>\n",
       "      <td>0.295373</td>\n",
       "    </tr>\n",
       "    <tr>\n",
       "      <th>Health</th>\n",
       "      <td>-0.442681</td>\n",
       "      <td>0.603763</td>\n",
       "      <td>1.000000</td>\n",
       "      <td>0.683950</td>\n",
       "    </tr>\n",
       "    <tr>\n",
       "      <th>Attractiveness</th>\n",
       "      <td>0.030642</td>\n",
       "      <td>0.295373</td>\n",
       "      <td>0.683950</td>\n",
       "      <td>1.000000</td>\n",
       "    </tr>\n",
       "  </tbody>\n",
       "</table>\n",
       "</div>"
      ],
      "text/plain": [
       "                    Risk     Trust    Health  Attractiveness\n",
       "Risk            1.000000 -0.804919 -0.442681        0.030642\n",
       "Trust          -0.804919  1.000000  0.603763        0.295373\n",
       "Health         -0.442681  0.603763  1.000000        0.683950\n",
       "Attractiveness  0.030642  0.295373  0.683950        1.000000"
      ]
     },
     "execution_count": 13,
     "metadata": {},
     "output_type": "execute_result"
    }
   ],
   "source": [
    "variables = [ 'Risk',\n",
    "              'Trust',\n",
    "              'Health',\n",
    "              'Attractiveness']\n",
    "\n",
    "full_dataset[variables].corr()   "
   ]
  },
  {
   "cell_type": "code",
   "execution_count": 14,
   "metadata": {},
   "outputs": [
    {
     "name": "stdout",
     "output_type": "stream",
     "text": [
      "Risk\n",
      "1.825\n",
      "5.925\n",
      "3.7029166666666655\n",
      "0.8595098126580958\n",
      "----\n",
      "Trust\n",
      "1.625\n",
      "6.25\n",
      "4.097708333333332\n",
      "0.8220369506682096\n",
      "----\n",
      "Health\n",
      "2.125\n",
      "6.325\n",
      "4.4007291666666655\n",
      "0.8297633884523781\n",
      "----\n",
      "Attractiveness\n",
      "1.35\n",
      "6.45\n",
      "3.661770833333333\n",
      "1.1567507877596794\n",
      "----\n"
     ]
    }
   ],
   "source": [
    "for curr_var in variables:\n",
    "    var = full_dataset[curr_var]\n",
    "    print(curr_var)\n",
    "    print(min(var) )\n",
    "    print(max(var) )\n",
    "    print(np.mean(var) )\n",
    "    print(np.std(var) )\n",
    "    print('----')"
   ]
  },
  {
   "cell_type": "markdown",
   "metadata": {},
   "source": [
    "#### Create analogous models for Trust, Health, Attractiveness as for HIV risk\n",
    "\n",
    "Next, just as we created models for HIV risk above, we can train analogous models for different criterion variables."
   ]
  },
  {
   "cell_type": "code",
   "execution_count": 15,
   "metadata": {},
   "outputs": [
    {
     "name": "stdout",
     "output_type": "stream",
     "text": [
      "Risk-Mean R2: 0.56\n",
      "Risk - Correlation measured2predicted: 0.75\n",
      "Trust-Mean R2: 0.5\n",
      "Trust - Correlation measured2predicted: 0.74\n",
      "Health-Mean R2: 0.65\n",
      "Health - Correlation measured2predicted: 0.83\n",
      "Attractiveness-Mean R2: 0.76\n",
      "Attractiveness - Correlation measured2predicted: 0.89\n"
     ]
    }
   ],
   "source": [
    "# use the same cue-dataset to train a model for the other variables\n",
    "X = risk_correlation_dataset.drop([ 'Risk'], axis=1) \n",
    "\n",
    "for curr_var in variables:\n",
    "    #print(curr_var)\n",
    "    y = full_dataset[curr_var]\n",
    "    \n",
    "    scores = cross_val_score(lasso, X, y, cv=5, scoring = 'r2')\n",
    "    m_r2 = np.mean(scores)\n",
    "    m_r2 = np.round(m_r2, 2)\n",
    "    print(curr_var +  '-Mean R2: ' + str( m_r2 ) )\n",
    "\n",
    "    predicted = cross_val_predict(lasso, X, y, cv=10)\n",
    "\n",
    "    # give correlation between measured and predicted results\n",
    "    corr_m2p = np.corrcoef(y, predicted)[0,1]\n",
    "    corr_m2p = np.round(corr_m2p, 2)\n",
    "    print( curr_var + ' - Correlation measured2predicted: '  + str( corr_m2p ) )"
   ]
  },
  {
   "cell_type": "markdown",
   "metadata": {},
   "source": [
    "#### Use models fitted on other Trust/Health/Attractiveness to predict HIV risk in new data\n",
    "\n",
    "Finally, we can train models to predict trust (or health, or attractiveness), and test how well these models would predict HIV risk. Of note, the behavior of these models can be guessed based on the relationships between these variables in the correlation table above. However, it could in principle be that there is a relationship between the variables (e.g. Risk and Trust), but that this reltionship arises from an entirely different cue-utilization process. In classical lens-model style analyses, this would be revealed by so-called vector-correlations, i.e. correlations between the cue-Risk correlation vector and the cue-Trust correlation vector. Our predictive modeling approach is really just another way to look at this phenomenon, i.e. whether same or different cues may drive the judgments. I would argue, though, that it has the advantage of being cross-validated."
   ]
  },
  {
   "cell_type": "code",
   "execution_count": 16,
   "metadata": {},
   "outputs": [
    {
     "name": "stdout",
     "output_type": "stream",
     "text": [
      "Trust\n",
      "0.7304846297878872\n",
      "-0.6462810089338366\n"
     ]
    },
    {
     "data": {
      "image/png": "[encoded data removed]",
      "text/plain": [
       "<Figure size 432x288 with 1 Axes>"
      ]
     },
     "metadata": {},
     "output_type": "display_data"
    },
    {
     "name": "stdout",
     "output_type": "stream",
     "text": [
      "Health\n",
      "0.8134352434991751\n",
      "-0.26232925987765043\n"
     ]
    },
    {
     "data": {
      "image/png": "[encoded data removed]",
      "text/plain": [
       "<Figure size 432x288 with 1 Axes>"
      ]
     },
     "metadata": {},
     "output_type": "display_data"
    },
    {
     "name": "stdout",
     "output_type": "stream",
     "text": [
      "Attractiveness\n",
      "0.893941406634801\n",
      "0.11613932260003464\n"
     ]
    },
    {
     "data": {
      "image/png": "[encoded data removed]",
      "text/plain": [
       "<Figure size 432x288 with 1 Axes>"
      ]
     },
     "metadata": {},
     "output_type": "display_data"
    }
   ],
   "source": [
    "X = risk_correlation_dataset.drop(['Risk'], axis=1) \n",
    "X = full_dataset[variables].join(X)\n",
    "\n",
    "for curr_var in variables[1:]:\n",
    "    print(curr_var)\n",
    "    \n",
    "    res_var_from_var = []\n",
    "    res_risk_from_var = []\n",
    "\n",
    "    \n",
    "    # Iterating the KFold object returns tuples of\n",
    "    # randomly shuffled training and testing indices, \n",
    "    # which are then used to select relevant data and labels/outcomes\n",
    "    for train, test in KFold(len(X), 10, shuffle=True):   #K = 5\n",
    "    \n",
    "        X_train = X.iloc[train]\n",
    "        X_test = X.iloc[test]\n",
    "\n",
    "        y_train = X_train[curr_var]\n",
    "        y_test_var = X_test[curr_var]\n",
    "        y_test_risk = X_test['Risk']\n",
    "\n",
    "        X_train = X_train.drop(variables, axis=1)\n",
    "        X_test = X_test.drop(variables, axis=1)\n",
    "\n",
    "        lasso_model = lasso.fit(X_train, y_train)\n",
    "        y_var_predicted = lasso_model.predict(X_test)\n",
    "\n",
    "        res_var_from_var.append(np.corrcoef(y_var_predicted, y_test_var)[0,1])\n",
    "        res_risk_from_var.append(np.corrcoef(y_var_predicted, y_test_risk)[0,1])\n",
    "\n",
    "    print(np.mean(res_var_from_var))    \n",
    "    print(np.mean(res_risk_from_var))\n",
    "    plt.plot(res_var_from_var)\n",
    "    plt.plot(res_risk_from_var)\n",
    "    #plt.plot([x * -1 for x in res_risk_from_var])\n",
    "    plt.title(curr_var)\n",
    "    leg1 = curr_var + \" from \" + curr_var + '-Model'\n",
    "    leg2 = 'HIV risk from ' + curr_var + '-Model'\n",
    "    plt.legend( [leg1, \n",
    "                 leg2],\n",
    "              loc = 'lower right')\n",
    "    plt.ylim(-1,1)\n",
    "    plt.show()\n",
    "                   "
   ]
  },
  {
   "cell_type": "code",
   "execution_count": 17,
   "metadata": {},
   "outputs": [
    {
     "name": "stdout",
     "output_type": "stream",
     "text": [
      "Done!\n"
     ]
    }
   ],
   "source": [
    "print(\"Done!\")"
   ]
  },
  {
   "cell_type": "code",
   "execution_count": null,
   "metadata": {},
   "outputs": [],
   "source": []
  }
 ],
 "metadata": {
  "anaconda-cloud": {},
  "kernelspec": {
   "display_name": "Python 3",
   "language": "python",
   "name": "python3"
  },
  "language_info": {
   "codemirror_mode": {
    "name": "ipython",
    "version": 3
   },
   "file_extension": ".py",
   "mimetype": "text/x-python",
   "name": "python",
   "nbconvert_exporter": "python",
   "pygments_lexer": "ipython3",
   "version": "3.7.0"
  }
 },
 "nbformat": 4,
 "nbformat_minor": 1
}
