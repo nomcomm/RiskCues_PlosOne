{
 "cells": [
  {
   "cell_type": "markdown",
   "metadata": {},
   "source": [
    "### Results \n",
    "\n",
    "This notebook reproduced the analyses reported in the paper \"Risky looks: Visual cues that predict intuitive HIV risk perception\". "
   ]
  },
  {
   "cell_type": "code",
   "execution_count": null,
   "metadata": {},
   "outputs": [],
   "source": [
    "import os\n",
    "import numpy as np\n",
    "import pandas as pd\n",
    "import matplotlib.pyplot as plt\n",
    "%matplotlib inline\n",
    "\n",
    "import seaborn as sns\n",
    "sns.set(font_scale=1.2)\n",
    "from sklearn import datasets\n",
    "from sklearn.model_selection import cross_val_predict, cross_val_score #KFold\n",
    "from sklearn.cross_validation import KFold  #using old interface here\n",
    "from sklearn import linear_model\n",
    "\n",
    "os.chdir('../data')"
   ]
  },
  {
   "cell_type": "markdown",
   "metadata": {},
   "source": [
    "### Relationships between individual cues and perceptions of HIV risk\n",
    "\n",
    "First, data are read in and a correlation between all cues, and particularly between each cue and the criterion variable \"HIV risk\" is computed, storing the results in a dataframe. Moreover, we compute basic descriptives for each cue, i.e. the mean (on a 1-7 scale) and standard deviation of ratings across the 240 images."
   ]
  },
  {
   "cell_type": "code",
   "execution_count": null,
   "metadata": {},
   "outputs": [],
   "source": [
    "full_dataset = pd.read_csv('FullSet_240.txt', delimiter='\\t')\n",
    "risk_correlation_dataset = full_dataset.drop([   'BildNr','No','Sex',\n",
    "               'Trust','Health','Attractiveness',\n",
    "                           ' CUE3_Appearance3_Unshaved (vs. shaved)_Abstract_0',\n",
    "                           ' CUE34_Face17_Strong (vs. no) growth of beard_Abstract_0',\n",
    "                           ' CUE53_Mouth2_Yellow (vs. white) teeth_Abstract_0',\n",
    "                           ' CUE62_Set8_Dark (vs. well-lit) background_Abstract_0',\n",
    "                           ' CUE35_GenImp1_Self confident (vs. not)_Abstract_2',\n",
    "                           ' CUE36_GenImp2_Cautious (vs. risk-seeking)_Abstract_2',\n",
    "                           ' CUE37_GenImp3_Uneducated (vs. educated)_Abstract_2',\n",
    "                           ' CUE38_GenImp4_Southern (vs. nordic) type_Abstract_1',\n",
    "                           ' CUE39_GenImp5_Sporty (vs. unsporty)_Abstract_2',\n",
    "                           ' CUE40_GenImp6_Scruffy (vs. kempt)_Abstract_2',\n",
    "                           ' CUE41_GenImp7_Likeable (vs. unsympathetic)_Abstract_2',\n",
    "                           ' CUE42_GenImp8_Attractive (vs. unattractive)_Abstract_2',\n",
    "                           ' CUE43_GenImp9_Irresponsible (vs. responsible)_Abstract_2',\n",
    "                           ' CUE44_GenImp10_Homosexual (vs. heterosexual)_Abstract_2',\n",
    "                           ' CUE45_GenImp11_Popular (vs. unpopular)_Abstract_2',\n",
    "                           ' CUE46_GenImp12_Selfish (vs. unselfish)_Abstract_2',\n",
    "                           ' CUE47_GenImp13_Ill-looking (vs. healthy-looking)_Abstract_2'], axis=1)\n",
    "\n",
    "# Computing correlations\n",
    "risk_cue_correlations = risk_correlation_dataset.corr()\n",
    "\n",
    "# Setting up a dataframe to store the risk-cue-correlations (just a column in the results matrix)\n",
    "results_table = pd.DataFrame(np.round(risk_cue_correlations.Risk[1:].values, 2) , columns = ['risk_cue_correlations'])\n",
    "\n",
    "# giving the results table the proper cue names/labels\n",
    "results_table.index = risk_cue_correlations.index[1:,]\n",
    "\n",
    "# computing cue means and sds, and putting them into the results_table\n",
    "results_table['Cue Means'] = np.round(risk_correlation_dataset.describe().loc['mean'][1:].values, 2)\n",
    "results_table['Cue Stds'] = np.round(risk_correlation_dataset.describe().loc['std'][1:].values,2)\n",
    "results_table"
   ]
  },
  {
   "cell_type": "code",
   "execution_count": null,
   "metadata": {},
   "outputs": [],
   "source": [
    "# Uncomment to visually inspect relationships between cues\n",
    "#df = risk_correlation_dataset.iloc[:, 2:10]\n",
    "#df.columns = np.arange(2,10,1)\n",
    "#sns.pairplot(df, kind='reg');"
   ]
  },
  {
   "cell_type": "markdown",
   "metadata": {},
   "source": [
    "### Predicting HIV risk impressions from visual cues\n",
    "#### Set up dataset for regression modeling \n",
    "\n",
    "After assessing correlations between each cue and HIV risk, the next step is setting up a predictive model to forecast HIV risk from the combination of cues. We begin by creating a dataset (X) and the outcome variable (y - i.e. HIV risk)."
   ]
  },
  {
   "cell_type": "code",
   "execution_count": null,
   "metadata": {
    "scrolled": true
   },
   "outputs": [],
   "source": [
    "# defining datamatrix and outcome vector\n",
    "X = risk_correlation_dataset\n",
    "y = X['Risk']\n",
    "X = X.drop([ 'Risk'], axis=1)\n",
    "X"
   ]
  },
  {
   "cell_type": "markdown",
   "metadata": {},
   "source": [
    "#### Set up Lasso, cross-validate, plot\n",
    "\n",
    "This is the core analysis that sets up a lasso-regression model and estimates it against the data in a 10-fold cross-validation. Results are then plotted and metrics are assessed."
   ]
  },
  {
   "cell_type": "code",
   "execution_count": null,
   "metadata": {
    "scrolled": false
   },
   "outputs": [],
   "source": [
    "# Defining the LassoEstimator\n",
    "lasso = linear_model.LassoCV()\n",
    "\n",
    "# predict the data\n",
    "predicted = cross_val_predict(lasso, X, y, cv=10)\n",
    "\n",
    "# plot\n",
    "fig, ax = plt.subplots(figsize = (5, 5))\n",
    "ax.scatter(y, predicted, color = 'black')\n",
    "ax.set_xlabel('Actual impressions of HIV risk')\n",
    "ax.set_ylabel('Predicted impression of HIV risk')\n",
    "ax.set_xlim((1,7))\n",
    "ax.set_ylim((1,7))\n",
    "#ax.set_title('Result of Lasso Regression')\n",
    "plt.show()\n",
    "\n",
    "# give correlation between measured and predicted results\n",
    "corr_m2p = np.corrcoef(y, predicted)[0,1]\n",
    "corr_m2p = np.round(corr_m2p, 2)\n",
    "print( 'Correlation measured2predicted: '  + str( corr_m2p ) )\n",
    "\n",
    "# compute x-val score r2 and mean thereof\n",
    "scores = cross_val_score(lasso, X, y, cv=10, scoring = 'r2')\n",
    "m_r2 = np.mean(scores)\n",
    "m_r2 = np.round(m_r2, 2)\n",
    "print('Mean R2: ' + str( m_r2 ) )\n",
    "\n",
    "# computing the standard error of the estimate \n",
    "se = np.sqrt(np.sum((y-predicted)**2)/len(y))\n",
    "se = np.round(se, 2)\n",
    "print('Standard error of the estimate: ' + str( se ) )\n",
    "\n",
    "\n",
    "# get lasso coefficients\n",
    "lasso_model = lasso.fit(X, y)\n",
    "len(lasso_model.coef_)\n",
    "\n",
    "results_table['Lasso Coefficients'] = np.round(lasso_model.coef_, 2)\n",
    "#results_table\n",
    "results_table.to_csv('results_table.csv')"
   ]
  },
  {
   "cell_type": "markdown",
   "metadata": {},
   "source": [
    "#### Inspecting the Lasso coefficients\n",
    "\n",
    "In addition to know that the model predicts HIV risk quite well, we want to know which cues are particularly important. We do so by sorting the cue-coefficients"
   ]
  },
  {
   "cell_type": "code",
   "execution_count": null,
   "metadata": {},
   "outputs": [],
   "source": [
    "sorted = results_table.sort_values('Lasso Coefficients', ascending=False)\n",
    "print('Top 5')\n",
    "print(sorted['Lasso Coefficients'][:5])\n",
    "print('-----')\n",
    "print('Bottom 5')\n",
    "sorted['Lasso Coefficients'][-5:]"
   ]
  },
  {
   "cell_type": "code",
   "execution_count": null,
   "metadata": {},
   "outputs": [],
   "source": [
    "sorted = results_table.sort_values('Lasso Coefficients', ascending=False)\n",
    "print('Top 5')\n",
    "print(sorted['Lasso Coefficients'][:5])\n",
    "print('-----')\n",
    "print('Bottom 5')\n",
    "sorted['Lasso Coefficients'][-5:]"
   ]
  },
  {
   "cell_type": "markdown",
   "metadata": {},
   "source": [
    "#### Setting up a conventional regression model\n",
    "The above results rely on Lasso-regression. The classical approach would be a standard linear regression. Due to multicolinearity, this model is not advisable, but in this case does not markedly change the results."
   ]
  },
  {
   "cell_type": "code",
   "execution_count": null,
   "metadata": {
    "scrolled": false
   },
   "outputs": [],
   "source": [
    "lr = linear_model.LinearRegression()\n",
    "predicted = cross_val_predict(lr, X, y, cv=10)\n",
    "\n",
    "fig, ax = plt.subplots(figsize = (5, 5))\n",
    "ax.scatter(y, predicted, color = 'black')\n",
    "ax.set_xlabel('Actual impressions of HIV risk')\n",
    "ax.set_ylabel('Predicted impression of HIV risk')\n",
    "ax.set_xlim((1,7))\n",
    "ax.set_ylim((1,7))\n",
    "ax.set_title('Result of Linear Regression')\n",
    "plt.show()\n",
    "\n",
    "# give correlation between measured and predicted results\n",
    "corr_m2p = np.corrcoef(y, predicted)[0,1]\n",
    "corr_m2p = np.round(corr_m2p, 2)\n",
    "print( 'Correlation measured2predicted: '  + str( corr_m2p ) )\n",
    "\n",
    "# compute x-val score r2 and mean thereof\n",
    "scores = cross_val_score(lr, X, y, cv=10, scoring = 'r2')\n",
    "m_r2 = np.mean(scores)\n",
    "m_r2 = np.round(m_r2, 2)\n",
    "print('Mean R2: ' + str( m_r2 ) )\n",
    "\n",
    "# computing the standard error of the estimate \n",
    "se = np.sqrt(np.sum((y-predicted)**2)/len(y))\n",
    "se = np.round(se, 2)\n",
    "print('Standard error of the estimate: ' + str( se ) )\n",
    "\n",
    "# get lasso coefficients\n",
    "lr_model = lr.fit(X, y)\n",
    "len(lr_model.coef_)\n",
    "\n",
    "results_table['LR Coefficients'] = np.round(lr_model.coef_, 2)\n",
    "#results_table"
   ]
  },
  {
   "cell_type": "markdown",
   "metadata": {},
   "source": [
    "#### Reducing the cues to concrete  ones and running same LASSO model\n",
    "\n",
    "Inspecting the models above reveals that some of the most informative cues are themselves abstractions (e.g. \"unconventional appearance\"). This is expected since HIV risk is likely a \"compound impression\" and not neatly tied to e.g. the brightness of the image. However, to examine how the results change if we confine the data to concrete (clearly observable) cues, we run the same procedures using a reduced dataset."
   ]
  },
  {
   "cell_type": "code",
   "execution_count": null,
   "metadata": {},
   "outputs": [],
   "source": [
    "n_cues = len(X.columns.values)\n",
    "abstraction_selector = np.ones(n_cues)\n",
    "for run in range(n_cues):\n",
    "    if (int(X.columns.values[run][-1]) > 0) :\n",
    "            abstraction_selector[run] = 0\n",
    "\n",
    "X_concrete = X.iloc[:, np.where(abstraction_selector > 0)[0]  ]"
   ]
  },
  {
   "cell_type": "code",
   "execution_count": null,
   "metadata": {},
   "outputs": [],
   "source": [
    "# predict the data\n",
    "predicted = cross_val_predict(lasso, X_concrete, y, cv=10)\n",
    "\n",
    "# plot\n",
    "fig, ax = plt.subplots(figsize = (5, 5))\n",
    "ax.scatter(y, predicted, color = 'black')\n",
    "ax.set_xlabel('Actual impressions of HIV risk')\n",
    "ax.set_ylabel('Predicted impression of HIV risk')\n",
    "ax.set_xlim((1,7))\n",
    "ax.set_ylim((1,7))\n",
    "ax.set_title('Result of Lasso Regression - Concrete Cue Set')\n",
    "plt.show()\n",
    "\n",
    "# give correlation between measured and predicted results\n",
    "corr_m2p = np.corrcoef(y, predicted)[0,1]\n",
    "corr_m2p = np.round(corr_m2p, 2)\n",
    "print( 'Correlation measured2predicted: '  + str( corr_m2p ) )\n",
    "\n",
    "# compute x-val score r2 and mean thereof\n",
    "scores = cross_val_score(lasso, X_concrete, y, cv=10, scoring = 'r2')\n",
    "m_r2 = np.mean(scores)\n",
    "m_r2 = np.round(m_r2, 2)\n",
    "print('Mean R2: ' + str( m_r2 ) )\n",
    "\n",
    "# computing the standard error of the estimate \n",
    "se = np.sqrt(np.sum((y-predicted)**2)/len(y))\n",
    "se = np.round(se, 2)\n",
    "print('Standard error of the estimate: ' + str( se ) )\n",
    "\n",
    "\n",
    "# get lasso coefficients\n",
    "lasso_model_reduced = lasso.fit(X_concrete, y)\n",
    "len(lasso_model_reduced.coef_)\n",
    "\n",
    "results_table_reduced = pd.DataFrame(  index= X_concrete.columns.values)\n",
    "\n",
    "results_table_reduced['Lasso Coefficients ConcreteOnly'] = np.round(lasso_model_reduced.coef_, 2)\n",
    "#results_table"
   ]
  },
  {
   "cell_type": "code",
   "execution_count": null,
   "metadata": {},
   "outputs": [],
   "source": [
    "sorted = results_table_reduced.sort_values('Lasso Coefficients ConcreteOnly', ascending=False)\n",
    "print('Top 5')\n",
    "print(sorted['Lasso Coefficients ConcreteOnly'][:5])\n",
    "print('-----')\n",
    "print('Bottom 5')\n",
    "sorted['Lasso Coefficients ConcreteOnly'][-5:]"
   ]
  },
  {
   "cell_type": "markdown",
   "metadata": {},
   "source": [
    "### How does HIV risk perception relate to general person impressions?"
   ]
  },
  {
   "cell_type": "code",
   "execution_count": null,
   "metadata": {},
   "outputs": [],
   "source": [
    "full_dataset\n",
    "impression_dataset = full_dataset[['Risk', \n",
    "                                   ' CUE35_GenImp1_Self confident (vs. not)_Abstract_2',\n",
    "                                   ' CUE36_GenImp2_Cautious (vs. risk-seeking)_Abstract_2',\n",
    "                                   ' CUE37_GenImp3_Uneducated (vs. educated)_Abstract_2',\n",
    "                                   ' CUE38_GenImp4_Southern (vs. nordic) type_Abstract_1',\n",
    "                                   ' CUE39_GenImp5_Sporty (vs. unsporty)_Abstract_2',\n",
    "                                   ' CUE40_GenImp6_Scruffy (vs. kempt)_Abstract_2',\n",
    "                                   ' CUE41_GenImp7_Likeable (vs. unsympathetic)_Abstract_2',\n",
    "                                   ' CUE42_GenImp8_Attractive (vs. unattractive)_Abstract_2',\n",
    "                                   ' CUE43_GenImp9_Irresponsible (vs. responsible)_Abstract_2',\n",
    "                                   ' CUE44_GenImp10_Homosexual (vs. heterosexual)_Abstract_2',\n",
    "                                   ' CUE45_GenImp11_Popular (vs. unpopular)_Abstract_2',\n",
    "                                   ' CUE46_GenImp12_Selfish (vs. unselfish)_Abstract_2',\n",
    "                                   ' CUE47_GenImp13_Ill-looking (vs. healthy-looking)_Abstract_2',]\n",
    "                                 ]\n",
    "\n",
    "risk_impressions_correlations = impression_dataset.corr()\n",
    "\n",
    "# Setting up a dataframe to store the risk-cue-correlations (just a column in the results matrix)\n",
    "impression_results_table = pd.DataFrame(np.round(risk_impressions_correlations.Risk[1:].values, 2) , columns = ['risk_impressions_correlations'])\n",
    "\n",
    "\n",
    "\n",
    "# giving the results table the proper cue names/labels\n",
    "impression_results_table.index = risk_impressions_correlations.index[1:,]\n",
    "\n",
    "# computing cue means and sds, and putting them into the results_table\n",
    "impression_results_table['Mean Rating'] = np.round(risk_impressions_correlations.describe().loc['mean'][1:].values, 2)\n",
    "impression_results_table['Std'] = np.round(risk_impressions_correlations.describe().loc['std'][1:].values,2)\n",
    "impression_results_table\n",
    "impression_results_table.to_csv('impression_results_table.csv')"
   ]
  },
  {
   "cell_type": "markdown",
   "metadata": {},
   "source": [
    "### The relationship between impressions of HIV risk to perceptions of trust, health,  and attractiveness."
   ]
  },
  {
   "cell_type": "markdown",
   "metadata": {},
   "source": [
    "#### Correlations between variables\n",
    "First, we can just examine the correlations between HIV risk and other dimensions of social impressions."
   ]
  },
  {
   "cell_type": "code",
   "execution_count": null,
   "metadata": {},
   "outputs": [],
   "source": [
    "variables = [ 'Risk',\n",
    "              'Trust',\n",
    "              'Health',\n",
    "              'Attractiveness']\n",
    "\n",
    "full_dataset[variables].corr()   "
   ]
  },
  {
   "cell_type": "markdown",
   "metadata": {},
   "source": [
    "#### Create analogous models for Trust, Health, Attractiveness as for HIV risk\n",
    "\n",
    "Next, just as we created models for HIV risk above, we can train analogous models for different criterion variables."
   ]
  },
  {
   "cell_type": "code",
   "execution_count": null,
   "metadata": {},
   "outputs": [],
   "source": [
    "# use the same cue-dataset to train a model for the other variables\n",
    "X = risk_correlation_dataset.drop([ 'Risk'], axis=1) \n",
    "\n",
    "for curr_var in variables:\n",
    "    #print(curr_var)\n",
    "    y = full_dataset[curr_var]\n",
    "    \n",
    "    scores = cross_val_score(lasso, X, y, cv=5, scoring = 'r2')\n",
    "    m_r2 = np.mean(scores)\n",
    "    m_r2 = np.round(m_r2, 2)\n",
    "    print(curr_var +  '-Mean R2: ' + str( m_r2 ) )\n",
    "\n",
    "    predicted = cross_val_predict(lasso, X, y, cv=10)\n",
    "\n",
    "    # give correlation between measured and predicted results\n",
    "    corr_m2p = np.corrcoef(y, predicted)[0,1]\n",
    "    corr_m2p = np.round(corr_m2p, 2)\n",
    "    print( curr_var + ' - Correlation measured2predicted: '  + str( corr_m2p ) )"
   ]
  },
  {
   "cell_type": "markdown",
   "metadata": {},
   "source": [
    "#### Use models fitted on other Trust/Health/Attractiveness to predict HIV risk in new data\n",
    "\n",
    "Finally, we can train models to predict trust (or health, or attractiveness), and test how well these models would predict HIV risk. Of note, the behavior of these models can be guessed based on the relationships between these variables in the correlation table above. However, it could in principle be that there is a relationship between the variables (e.g. Risk and Trust), but that this reltionship arises from an entirely different cue-utilization process. In classical lens-model style analyses, this would be revealed by so-called vector-correlations, i.e. correlations between the cue-Risk correlation vector and the cue-Trust correlation vector. Our predictive modeling approach is really just another way to look at this phenomenon, i.e. whether same or different cues may drive the judgments. I would argue, though, that it has the advantage of being cross-validated."
   ]
  },
  {
   "cell_type": "code",
   "execution_count": null,
   "metadata": {},
   "outputs": [],
   "source": [
    "X = risk_correlation_dataset.drop(['Risk'], axis=1) \n",
    "X = full_dataset[variables].join(X)\n",
    "\n",
    "for curr_var in variables[1:]:\n",
    "    print(curr_var)\n",
    "    \n",
    "    res_var_from_var = []\n",
    "    res_risk_from_var = []\n",
    "\n",
    "    \n",
    "    # Iterating the KFold object returns tuples of\n",
    "    # randomly shuffled training and testing indices, \n",
    "    # which are then used to select relevant data and labels/outcomes\n",
    "    for train, test in KFold(len(X), 10, shuffle=True):   #K = 5\n",
    "    \n",
    "        X_train = X.iloc[train]\n",
    "        X_test = X.iloc[test]\n",
    "\n",
    "        y_train = X_train[curr_var]\n",
    "        y_test_var = X_test[curr_var]\n",
    "        y_test_risk = X_test['Risk']\n",
    "\n",
    "        X_train = X_train.drop(variables, axis=1)\n",
    "        X_test = X_test.drop(variables, axis=1)\n",
    "\n",
    "        lasso_model = lasso.fit(X_train, y_train)\n",
    "        y_var_predicted = lasso_model.predict(X_test)\n",
    "\n",
    "        res_var_from_var.append(np.corrcoef(y_var_predicted, y_test_var)[0,1])\n",
    "        res_risk_from_var.append(np.corrcoef(y_var_predicted, y_test_risk)[0,1])\n",
    "\n",
    "    print(np.mean(res_var_from_var))    \n",
    "    print(np.mean(res_risk_from_var))\n",
    "    plt.plot(res_var_from_var)\n",
    "    plt.plot(res_risk_from_var)\n",
    "    #plt.plot([x * -1 for x in res_risk_from_var])\n",
    "    plt.title(curr_var)\n",
    "    leg1 = curr_var + \" from \" + curr_var + '-Model'\n",
    "    leg2 = 'HIV risk from ' + curr_var + '-Model'\n",
    "    plt.legend( [leg1, \n",
    "                 leg2],\n",
    "              loc = 'lower right')\n",
    "    plt.ylim(-1,1)\n",
    "    plt.show()\n",
    "                   "
   ]
  },
  {
   "cell_type": "code",
   "execution_count": null,
   "metadata": {},
   "outputs": [],
   "source": [
    "print(\"Done!\")"
   ]
  },
  {
   "cell_type": "code",
   "execution_count": null,
   "metadata": {},
   "outputs": [],
   "source": []
  }
 ],
 "metadata": {
  "anaconda-cloud": {},
  "kernelspec": {
   "display_name": "Python 3",
   "language": "python",
   "name": "python3"
  },
  "language_info": {
   "codemirror_mode": {
    "name": "ipython",
    "version": 3
   },
   "file_extension": ".py",
   "mimetype": "text/x-python",
   "name": "python",
   "nbconvert_exporter": "python",
   "pygments_lexer": "ipython3",
   "version": "3.6.4"
  }
 },
 "nbformat": 4,
 "nbformat_minor": 1
}
