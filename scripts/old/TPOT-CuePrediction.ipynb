{
 "cells": [
  {
   "cell_type": "markdown",
   "metadata": {},
   "source": [
    "### Tpot cue prediction"
   ]
  },
  {
   "cell_type": "code",
   "execution_count": 1,
   "metadata": {
    "collapsed": true
   },
   "outputs": [],
   "source": [
    "from tpot import TPOTRegressor\n",
    "from sklearn.model_selection import train_test_split\n",
    "from sklearn.utils import shuffle\n",
    "\n",
    "import os\n",
    "import numpy as np\n",
    "import pandas as pd\n",
    "import matplotlib.pyplot as plt\n",
    "%matplotlib inline\n",
    "\n",
    "os.chdir('/Users/Ralf/My_Cloud/03_PROJEKTE/CUES/Matlab')"
   ]
  },
  {
   "cell_type": "markdown",
   "metadata": {},
   "source": [
    "#### Set up train and test datasets"
   ]
  },
  {
   "cell_type": "code",
   "execution_count": 2,
   "metadata": {},
   "outputs": [
    {
     "data": {
      "text/plain": [
       "((120, 56), (120, 56), (120,), (120,))"
      ]
     },
     "execution_count": 2,
     "metadata": {},
     "output_type": "execute_result"
    }
   ],
   "source": [
    "X_train = pd.read_csv('setA_001-120.txt', delimiter='\\t')\n",
    "y_train = X_train['Risk']\n",
    "\n",
    "#y_train = shuffle(y_train)\n",
    "X_train = X_train.drop([   'BildNr','No','Sex','Trust','Health','Attractiveness','Risk',\n",
    "                           ' CUE3_Appearance3_Unshaved (vs. shaved)_Abstract_0',\n",
    "                           ' CUE34_Face17_Strong (vs. no) growth of beard_Abstract_0',\n",
    "                           ' CUE53_Mouth2_Yellow (vs. white) teeth_Abstract_0',\n",
    "                           ' CUE62_Set8_Dark (vs. well-lit) background_Abstract_0',\n",
    "                           ' CUE35_GenImp1_Self confident (vs. not)_Abstract_2',\n",
    "                           ' CUE36_GenImp2_Cautious (vs. risk-seeking)_Abstract_2',\n",
    "                           ' CUE37_GenImp3_Uneducated (vs. educated)_Abstract_2',\n",
    "                           ' CUE38_GenImp4_Southern (vs. nordic) type_Abstract_1',\n",
    "                           ' CUE39_GenImp5_Sporty (vs. unsporty)_Abstract_2',\n",
    "                           ' CUE40_GenImp6_Scruffy (vs. kempt)_Abstract_2',\n",
    "                           ' CUE41_GenImp7_Likeable (vs. unsympathetic)_Abstract_2',\n",
    "                           ' CUE42_GenImp8_Attractive (vs. unattractive)_Abstract_2',\n",
    "                           ' CUE43_GenImp9_Irresponsible (vs. responsible)_Abstract_2',\n",
    "                           ' CUE44_GenImp10_Homosexual (vs. heterosexual)_Abstract_2',\n",
    "                           ' CUE45_GenImp11_Popular (vs. unpopular)_Abstract_2',\n",
    "                           ' CUE46_GenImp12_Selfish (vs. unselfish)_Abstract_2',\n",
    "                           ' CUE47_GenImp13_Ill-looking (vs. healthy-looking)_Abstract_2'], axis=1)\n",
    "\n",
    "X_test = pd.read_csv('setB_121-240.txt', delimiter='\\t')\n",
    "y_test = X_test['Risk']\n",
    "X_test = X_test.drop([ 'BildNr','No','Sex','Trust','Health','Attractiveness','Risk',\n",
    "                           ' CUE3_Appearance3_Unshaved (vs. shaved)_Abstract_0',\n",
    "                           ' CUE34_Face17_Strong (vs. no) growth of beard_Abstract_0',\n",
    "                           ' CUE53_Mouth2_Yellow (vs. white) teeth_Abstract_0',\n",
    "                           ' CUE62_Set8_Dark (vs. well-lit) background_Abstract_0',\n",
    "                           ' CUE35_GenImp1_Self confident (vs. not)_Abstract_2',\n",
    "                           ' CUE36_GenImp2_Cautious (vs. risk-seeking)_Abstract_2',\n",
    "                           ' CUE37_GenImp3_Uneducated (vs. educated)_Abstract_2',\n",
    "                           ' CUE38_GenImp4_Southern (vs. nordic) type_Abstract_1',\n",
    "                           ' CUE39_GenImp5_Sporty (vs. unsporty)_Abstract_2',\n",
    "                           ' CUE40_GenImp6_Scruffy (vs. kempt)_Abstract_2',\n",
    "                           ' CUE41_GenImp7_Likeable (vs. unsympathetic)_Abstract_2',\n",
    "                           ' CUE42_GenImp8_Attractive (vs. unattractive)_Abstract_2',\n",
    "                           ' CUE43_GenImp9_Irresponsible (vs. responsible)_Abstract_2',\n",
    "                           ' CUE44_GenImp10_Homosexual (vs. heterosexual)_Abstract_2',\n",
    "                           ' CUE45_GenImp11_Popular (vs. unpopular)_Abstract_2',\n",
    "                           ' CUE46_GenImp12_Selfish (vs. unselfish)_Abstract_2',\n",
    "                           ' CUE47_GenImp13_Ill-looking (vs. healthy-looking)_Abstract_2'], axis=1)\n",
    "y_train.tail()\n",
    "#yourdf.drop(['columnheading1', 'columnheading2'], axis=1, inplace=True)\n",
    "X_train.isnull().values.any()\n",
    "\n",
    "#y_train = pd.DataFrame(np.random.rand(120))\n",
    "y_train.values.shape\n",
    "\n",
    "\n",
    "X_train.shape, X_test.shape, y_train.shape, y_test.shape"
   ]
  },
  {
   "cell_type": "markdown",
   "metadata": {},
   "source": [
    "#### Run TPot to test numerous pipelines and select the best one..."
   ]
  },
  {
   "cell_type": "code",
   "execution_count": 4,
   "metadata": {},
   "outputs": [
    {
     "name": "stdout",
     "output_type": "stream",
     "text": [
      "Warning: xgboost.XGBRegressor is not available and will not be used by TPOT.\n"
     ]
    },
    {
     "name": "stderr",
     "output_type": "stream",
     "text": [
      "Optimization Progress:  67%|██████▋   | 200/300 [02:37<01:21,  1.23pipeline/s]"
     ]
    },
    {
     "name": "stdout",
     "output_type": "stream",
     "text": [
      "Generation 1 - Current best internal CV score: 0.338614456442\n"
     ]
    },
    {
     "name": "stderr",
     "output_type": "stream",
     "text": [
      "                                                                              "
     ]
    },
    {
     "name": "stdout",
     "output_type": "stream",
     "text": [
      "Generation 2 - Current best internal CV score: 0.326314181244\n"
     ]
    },
    {
     "name": "stderr",
     "output_type": "stream",
     "text": [
      "\r"
     ]
    },
    {
     "name": "stdout",
     "output_type": "stream",
     "text": [
      "\n",
      "Best pipeline: LinearSVR(RandomForestRegressor(input_matrix, bootstrap=True, max_features=0.95, min_samples_leaf=4, min_samples_split=11, n_estimators=100), C=0.01, dual=True, epsilon=0.01, loss=epsilon_insensitive, tol=1e-05)\n",
      "0.175059687127\n"
     ]
    },
    {
     "data": {
      "text/plain": [
       "True"
      ]
     },
     "execution_count": 4,
     "metadata": {},
     "output_type": "execute_result"
    }
   ],
   "source": [
    "tpot = TPOTRegressor(generations=2, #population_size=5, \n",
    "                     verbosity=2)#,\n",
    "                     # config_dict='TPOT light')\n",
    "tpot.fit(X_train, y_train)\n",
    "\n",
    "print(tpot.score(X_test, y_test))\n",
    "tpot.export('tpot_cues_pipeline.py')\n",
    "print(tpot.score(X_test, y_test))\n"
   ]
  },
  {
   "cell_type": "markdown",
   "metadata": {},
   "source": [
    "#### This is the generated pipeline code"
   ]
  },
  {
   "cell_type": "code",
   "execution_count": 3,
   "metadata": {},
   "outputs": [
    {
     "data": {
      "text/plain": [
       "(120,)"
      ]
     },
     "execution_count": 3,
     "metadata": {},
     "output_type": "execute_result"
    }
   ],
   "source": [
    "import numpy as np\n",
    "import pandas as pd\n",
    "from sklearn.ensemble import RandomForestRegressor\n",
    "from sklearn.model_selection import train_test_split\n",
    "from sklearn.pipeline import make_pipeline, make_union\n",
    "from sklearn.svm import LinearSVR\n",
    "from tpot.builtins import StackingEstimator\n",
    "\n",
    "\n",
    "exported_pipeline = make_pipeline(\n",
    "    StackingEstimator(estimator=RandomForestRegressor(bootstrap=True, max_features=0.95, min_samples_leaf=4, min_samples_split=11, n_estimators=100)),\n",
    "    LinearSVR(C=0.01, dual=True, epsilon=0.01, loss=\"epsilon_insensitive\", tol=1e-05)\n",
    ")\n",
    "\n",
    "exported_pipeline.fit(X_train, y_train)\n",
    "y_pred_rf = exported_pipeline.predict(X_test)\n",
    "y_pred_rf.shape"
   ]
  },
  {
   "cell_type": "code",
   "execution_count": 4,
   "metadata": {},
   "outputs": [
    {
     "data": {
      "image/png": "[encoded data removed]",
      "text/plain": [
       "<matplotlib.figure.Figure at 0x10a4bfb50>"
      ]
     },
     "metadata": {},
     "output_type": "display_data"
    },
    {
     "name": "stdout",
     "output_type": "stream",
     "text": [
      "0.699400407342\n"
     ]
    },
    {
     "data": {
      "text/plain": [
       "0.4727129736242921"
      ]
     },
     "execution_count": 4,
     "metadata": {},
     "output_type": "execute_result"
    }
   ],
   "source": [
    "plt.scatter(y_pred_rf, y_test);\n",
    "plt.axis('square')\n",
    "plt.xlim([1,7])\n",
    "plt.ylim([1,7])\n",
    "\n",
    "plt.show()\n",
    "print(np.corrcoef(y_pred_rf, y_test)[0,1])\n",
    "\n",
    "\n",
    "from sklearn.metrics import r2_score\n",
    "r2_score_rf = r2_score(y_test, y_pred_rf)\n",
    "r2_score_rf"
   ]
  },
  {
   "cell_type": "code",
   "execution_count": 5,
   "metadata": {
    "collapsed": true
   },
   "outputs": [],
   "source": [
    "### another model would be elastic net"
   ]
  },
  {
   "cell_type": "code",
   "execution_count": 6,
   "metadata": {},
   "outputs": [
    {
     "data": {
      "text/plain": [
       "(120,)"
      ]
     },
     "execution_count": 6,
     "metadata": {},
     "output_type": "execute_result"
    }
   ],
   "source": [
    "from sklearn.ensemble import VotingClassifier\n",
    "from sklearn.linear_model import ElasticNet\n",
    "from sklearn.model_selection import train_test_split\n",
    "from sklearn.pipeline import make_pipeline, make_union\n",
    "from sklearn.preprocessing import FunctionTransformer\n",
    "\n",
    "enet =  ElasticNet(alpha=0.24, l1_ratio=0.05)\n",
    "\n",
    "enet.fit(X_train, y_train)\n",
    "y_pred_enet = enet.predict(X_test)\n",
    "y_pred_enet.shape"
   ]
  },
  {
   "cell_type": "code",
   "execution_count": 7,
   "metadata": {},
   "outputs": [
    {
     "data": {
      "image/png": "[encoded data removed]",
      "text/plain": [
       "<matplotlib.figure.Figure at 0x110afd150>"
      ]
     },
     "metadata": {},
     "output_type": "display_data"
    },
    {
     "name": "stdout",
     "output_type": "stream",
     "text": [
      "0.726935524368\n"
     ]
    },
    {
     "data": {
      "text/plain": [
       "[<matplotlib.lines.Line2D at 0x115c76690>]"
      ]
     },
     "execution_count": 7,
     "metadata": {},
     "output_type": "execute_result"
    },
    {
     "data": {
      "image/png": "[encoded data removed]",
      "text/plain": [
       "<matplotlib.figure.Figure at 0x115b8c250>"
      ]
     },
     "metadata": {},
     "output_type": "display_data"
    }
   ],
   "source": [
    "plt.scatter(y_pred_enet, y_test);\n",
    "plt.show()\n",
    "print(np.corrcoef(y_pred_enet, y_test)[0,1])\n",
    "\n",
    "\n",
    "from sklearn.metrics import r2_score\n",
    "r2_score_enet = r2_score(y_test, y_pred_enet)\n",
    "r2_score_enet\n",
    "\n",
    "np.sqrt(r2_score_enet)\n",
    "plt.plot(enet.coef_, color='lightgreen', linewidth=2,\n",
    "         label='Elastic net coefficients')"
   ]
  },
  {
   "cell_type": "code",
   "execution_count": null,
   "metadata": {
    "collapsed": true
   },
   "outputs": [],
   "source": []
  },
  {
   "cell_type": "code",
   "execution_count": null,
   "metadata": {
    "collapsed": true
   },
   "outputs": [],
   "source": []
  }
 ],
 "metadata": {
  "anaconda-cloud": {},
  "kernelspec": {
   "display_name": "Python 2",
   "language": "python",
   "name": "python2"
  },
  "language_info": {
   "codemirror_mode": {
    "name": "ipython",
    "version": 2
   },
   "file_extension": ".py",
   "mimetype": "text/x-python",
   "name": "python",
   "nbconvert_exporter": "python",
   "pygments_lexer": "ipython2",
   "version": "2.7.14"
  }
 },
 "nbformat": 4,
 "nbformat_minor": 1
}
